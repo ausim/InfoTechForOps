{
 "cells": [
  {
   "cell_type": "markdown",
   "metadata": {},
   "source": [
    "# Cards - A playing card module\n",
    "## First, define a few support functions"
   ]
  },
  {
   "cell_type": "code",
   "execution_count": 5,
   "metadata": {},
   "outputs": [],
   "source": [
    "# ---------------------\n",
    "# cards.py - Cards module\n",
    "#\n",
    "# 2015-09-14 - jeff smith\n",
    "# $Id: cards.py 1156 2016-10-24 23:59:14Z smitjef $\n",
    "# ---------------------\n",
    "\n",
    "#\n",
    "# convert() - converts an integer (0-51) to a card \n",
    "#\t\tReturn: List: card (0, 12), suit (S, H, D, C)\n",
    "#\n",
    "def convert(x):\n",
    "    card = x % 13\n",
    "    suit = 'SHDC'[int(x/13)]\n",
    "    return card, suit, str([card, suit]), str2([card, suit])\n",
    "\n",
    "#\n",
    "# draw_one() - draws a single card from a deck\n",
    "#\t\tReturn: List: card (0, 12), suit (S, H, D, C)\n",
    "#\n",
    "def draw_one():\n",
    "    from random import randint\n",
    "\n",
    "    # draw the random number\n",
    "    x = randint(0, 51)\n",
    "    # return the converted value\n",
    "    return(convert(x))\n",
    "\n",
    "#\n",
    "# draw_n() - draws n cards (without replacment)\n",
    "# \tfrom a m-deck shoe.\n",
    "#   Parameters: n - number of cards -- integer (1, 52*m)\n",
    "#               m - number of decks in the shoe\n",
    "# \tReturn: List (length 5) of lists (see draw_one)\n",
    "def draw_n(n, m=1):\n",
    "    from random import sample\n",
    "\n",
    "    # initialize the list\n",
    "    cards = []\n",
    "    shoe = range(52)*m\n",
    "    # make sure that we have a valid number\n",
    "    if n > 0 and n <= 52*m:\n",
    "        # sample without replacement \n",
    "        for x in sample(shoe, n):\n",
    "            # append the converted card to the list\n",
    "            cards.append(convert(x))\n",
    "    return cards\n",
    "\n",
    "#\n",
    "# str() - convert to string\n",
    "#\n",
    "def str(draw):\n",
    "    suits = {\n",
    "        'S':'Spades',\n",
    "        'H':'Hearts',\n",
    "        'D':'Diamonds',\n",
    "        'C':'Clubs'\n",
    "        }\n",
    "    cards = [\n",
    "        'Ace', '2', '3', '4', '5', \n",
    "        '6', '7', '8', '9', '10', \n",
    "        'Jack', 'Queen', 'King'\n",
    "        ]\n",
    "    # create the human-readable string for the given card\n",
    "    str = '{} of {}'.format(cards[draw[0]], suits[draw[1]])\n",
    "    return str\n",
    "\n",
    "\n",
    "#\n",
    "# str2() - convert to string\n",
    "#\n",
    "def str2(draw):\n",
    "    cards = [\n",
    "        'A', '2', '3', '4', '5', \n",
    "        '6', '7', '8', '9', '10', \n",
    "        'J', 'Q', 'K'\n",
    "        ]\n",
    "    # create the human-readable string for the given card\n",
    "    str = '{}{}'.format(cards[draw[0]], draw[1])\n",
    "    return str\n",
    "\n",
    "#\n",
    "# sample(n) - Do n independent draws of one card (i.e., sample with replacement)\n",
    "#\n",
    "def sample(num_cards = 20):\n",
    "    for k in range(num_cards):\n",
    "        draw = draw_one()\n",
    "        print ('{:3d} {} ({}, {})'.format(k+1, draw[2], draw[0], draw[1]))\n"
   ]
  },
  {
   "cell_type": "code",
   "execution_count": 10,
   "metadata": {},
   "outputs": [
    {
     "name": "stdout",
     "output_type": "stream",
     "text": [
      "  1 4 of Clubs (3, C)\n",
      "  2 4 of Diamonds (3, D)\n",
      "  3 6 of Spades (5, S)\n",
      "  4 Queen of Spades (11, S)\n",
      "  5 10 of Diamonds (9, D)\n"
     ]
    }
   ],
   "source": [
    "#\n",
    "# Test the smaple function\n",
    "#\n",
    "sample(5)"
   ]
  },
  {
   "cell_type": "markdown",
   "metadata": {},
   "source": [
    "## Blackjack - Monte Carlo simulation to estimate the probabilty of a Black Jack on the initial deal in a game of 21 (Black Jack)"
   ]
  },
  {
   "cell_type": "code",
   "execution_count": 14,
   "metadata": {},
   "outputs": [
    {
     "name": "stdout",
     "output_type": "stream",
     "text": [
      "Reps: 5,000; Num true: 237; prob. est.: 0.0474\n"
     ]
    }
   ],
   "source": [
    "#---------------------\n",
    "# blackjack - MC to determine prob of blackjack on initial deal\n",
    "#\n",
    "# 2015-09-14 - jeff smith\n",
    "# ---------------------\n",
    "import random\n",
    "\n",
    "# create the shoe by replicating a deck 5 times\n",
    "#   (as suggested by ashley yarbrough - INSY 3010 Fall 2015)\n",
    "#   Define it outside the sample() function so that it doesn't\n",
    "#   have to be initialized on every call (it's static).\n",
    "shoe = list(range(52))*5\n",
    "\n",
    "# \n",
    "# sample() - should return 0 or 1 based on the experiment.  The\n",
    "#   baseline version just returns a random (0, 1) value and prints\n",
    "#   the card hand and value.\n",
    "#\n",
    "def sample(show):\n",
    "    two_cards = random.sample(shoe, 2)\n",
    "    hand = [convert(c)[0] for c in two_cards]\n",
    "    for k in range(2):\n",
    "        if hand[k] == 0:\n",
    "            hand[k] = 11\n",
    "        elif hand[k] >= 9:\n",
    "            hand[k] = 10\n",
    "        else:\n",
    "            hand[k] = hand[k] + 1\n",
    "    score = hand[0] + hand[1];\n",
    "    is_true = 1 if score == 21 else 0\n",
    "    if show:\n",
    "        print (hand, is_true)\n",
    "    return is_true\n",
    "\n",
    "# \n",
    "# simulation starts here\n",
    "#\n",
    "nreps = 5000\n",
    "num_true = 0\n",
    "for k in range(nreps):\n",
    "    num_true = num_true + sample(0)\n",
    "print ('Reps: {:,d}; Num true: {}; prob. est.: {:.4f}'.format(\n",
    "    nreps,\n",
    "    num_true, \n",
    "    float(num_true)/nreps\n",
    "    ))\n"
   ]
  },
  {
   "cell_type": "code",
   "execution_count": null,
   "metadata": {},
   "outputs": [],
   "source": []
  }
 ],
 "metadata": {
  "kernelspec": {
   "display_name": "Python 3",
   "language": "python",
   "name": "python3"
  },
  "language_info": {
   "codemirror_mode": {
    "name": "ipython",
    "version": 3
   },
   "file_extension": ".py",
   "mimetype": "text/x-python",
   "name": "python",
   "nbconvert_exporter": "python",
   "pygments_lexer": "ipython3",
   "version": "3.6.4"
  }
 },
 "nbformat": 4,
 "nbformat_minor": 2
}
