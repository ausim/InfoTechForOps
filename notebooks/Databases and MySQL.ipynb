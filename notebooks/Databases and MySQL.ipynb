{
 "cells": [
  {
   "cell_type": "markdown",
   "metadata": {},
   "source": [
    "# Databases and MySQL"
   ]
  },
  {
   "cell_type": "code",
   "execution_count": null,
   "metadata": {},
   "outputs": [],
   "source": [
    "# Setting Up\n",
    "import mysql.connector\n",
    "# if import fails, 'conda install mysql-connector-python' to install (from a conda prompt)\n",
    "import pandas as pd"
   ]
  },
  {
   "cell_type": "markdown",
   "metadata": {},
   "source": [
    "## Flight-Airplane-PassengerCount"
   ]
  },
  {
   "cell_type": "code",
   "execution_count": null,
   "metadata": {},
   "outputs": [],
   "source": [
    "# read from csv\n",
    "flights = pd.read_csv(\"../data/flights.csv\", parse_dates=['DepDate', 'ArrDate'])\n",
    "flights.head()"
   ]
  },
  {
   "cell_type": "markdown",
   "metadata": {},
   "source": [
    "## People-Flight-Airplane"
   ]
  },
  {
   "cell_type": "code",
   "execution_count": null,
   "metadata": {},
   "outputs": [],
   "source": [
    "# read from csv\n",
    "passengers = pd.read_csv(\"../data/passengers.csv\", parse_dates=['DepDate', 'ArrDate'])\n",
    "passengers.head()"
   ]
  },
  {
   "cell_type": "markdown",
   "metadata": {},
   "source": [
    "## Connecting to and querying the database"
   ]
  },
  {
   "cell_type": "code",
   "execution_count": null,
   "metadata": {},
   "outputs": [],
   "source": [
    "# connect to the database\n",
    "cnx = mysql.connector.connect(\n",
    "    user=\"insy6500\", \n",
    "    password=\"insy6500\", \n",
    "    host=\"localhost\", \n",
    "    database=\"insy6500\"\n",
    "    )\n",
    "print (\"Successfully connected....\")"
   ]
  },
  {
   "cell_type": "code",
   "execution_count": null,
   "metadata": {},
   "outputs": [],
   "source": [
    "# List the tables using a cursor object\n",
    "print (\"Tables:\")\n",
    "cursor = cnx.cursor()\n",
    "# this is the SQL query\n",
    "query = (\"show tables\")\n",
    "cursor.execute(query)\n",
    "for (db) in cursor:\n",
    "    print (\"\\t{}\".format(db[0]))\n",
    "cursor.close()\n",
    "print (\"Database closed.\")"
   ]
  },
  {
   "cell_type": "code",
   "execution_count": null,
   "metadata": {},
   "outputs": [],
   "source": [
    "# Sample query to a Pandas datafram\n",
    "qry = \"select * from airplane\"\n",
    "print (\"Query: {:}\".format(qry))\n",
    "pdPlanes = pd.read_sql(qry, cnx)\n",
    "pdPlanes"
   ]
  },
  {
   "cell_type": "code",
   "execution_count": null,
   "metadata": {},
   "outputs": [],
   "source": [
    "# Query to an anonymous dataframe\n",
    "pd.read_sql(\"show tables\", cnx)"
   ]
  },
  {
   "cell_type": "code",
   "execution_count": null,
   "metadata": {},
   "outputs": [],
   "source": []
  }
 ],
 "metadata": {
  "kernelspec": {
   "display_name": "Python 3",
   "language": "python",
   "name": "python3"
  },
  "language_info": {
   "codemirror_mode": {
    "name": "ipython",
    "version": 3
   },
   "file_extension": ".py",
   "mimetype": "text/x-python",
   "name": "python",
   "nbconvert_exporter": "python",
   "pygments_lexer": "ipython3",
   "version": "3.7.4"
  }
 },
 "nbformat": 4,
 "nbformat_minor": 2
}
