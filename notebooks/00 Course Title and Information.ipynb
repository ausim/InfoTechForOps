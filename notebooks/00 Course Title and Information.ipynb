{
 "cells": [
  {
   "cell_type": "markdown",
   "metadata": {},
   "source": [
    "# INSY 6500 - Information Systems for Operations\n",
    "\n",
    "## Current course offering : Fall 2020\n",
    "\n",
    "<b>Jeffrey S. Smith</b>\n",
    "<br>Joe W. Forehand Professor\n",
    "<br>Industrial & Systems Engineering Department\n",
    "<br>Auburn University\n",
    "\n",
    "<b>TA - TBD</b>\n"
   ]
  },
  {
   "cell_type": "code",
   "execution_count": null,
   "metadata": {},
   "outputs": [],
   "source": []
  }
 ],
 "metadata": {
  "kernelspec": {
   "display_name": "Python 3",
   "language": "python",
   "name": "python3"
  },
  "language_info": {
   "codemirror_mode": {
    "name": "ipython",
    "version": 3
   },
   "file_extension": ".py",
   "mimetype": "text/x-python",
   "name": "python",
   "nbconvert_exporter": "python",
   "pygments_lexer": "ipython3",
   "version": "3.7.7"
  }
 },
 "nbformat": 4,
 "nbformat_minor": 2
}
