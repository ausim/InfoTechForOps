{
 "cells": [
  {
   "cell_type": "markdown",
   "metadata": {},
   "source": [
    "# Aggregation and Grouping - Another Example\n",
    "The VanderPlas book/notebook uses the planets data from Seaborn.  I'm going to do another example using the tips data (I've been a waiter at two restaurants, so this one was particularly interesting!)."
   ]
  },
  {
   "cell_type": "code",
   "execution_count": null,
   "metadata": {},
   "outputs": [],
   "source": [
    "# Setup -- import plus load\n",
    "import seaborn as sns\n",
    "tips = sns.load_dataset('tips')\n",
    "type(tips), tips.shape"
   ]
  },
  {
   "cell_type": "code",
   "execution_count": null,
   "metadata": {},
   "outputs": [],
   "source": [
    "# looks like a dataset of restaurant tips!\n",
    "tips.head()"
   ]
  },
  {
   "cell_type": "code",
   "execution_count": null,
   "metadata": {},
   "outputs": [],
   "source": [
    "# Let's calculate the tip percentage\n",
    "tips['percent'] = (tips['tip'] / tips['total_bill'])*100\n",
    "tips.head()"
   ]
  },
  {
   "cell_type": "markdown",
   "metadata": {},
   "source": [
    "## Aggregate Functions"
   ]
  },
  {
   "cell_type": "code",
   "execution_count": null,
   "metadata": {},
   "outputs": [],
   "source": [
    "# Aggregate functions - mean, median, and total tips.\n",
    "tips['tip'].mean(), tips['tip'].median(), tips['tip'].sum()"
   ]
  },
  {
   "cell_type": "code",
   "execution_count": null,
   "metadata": {},
   "outputs": [],
   "source": [
    "# total number of people\n",
    "tips['size'].sum()"
   ]
  },
  {
   "cell_type": "code",
   "execution_count": null,
   "metadata": {},
   "outputs": [],
   "source": [
    "# Let's look at some aggregate statistics for the whole dataset\n",
    "tips.describe()"
   ]
  },
  {
   "cell_type": "code",
   "execution_count": null,
   "metadata": {},
   "outputs": [],
   "source": [
    "# wow -- who left a 71% tip?\n",
    "tips[tips['percent'] > 71]\n",
    "# looks like a male smoker who ate dinner on a Sunday with one other person."
   ]
  },
  {
   "cell_type": "code",
   "execution_count": null,
   "metadata": {},
   "outputs": [],
   "source": [
    "# who had a $51 meal?\n",
    "tips[tips['total_bill'] > 50]"
   ]
  },
  {
   "cell_type": "code",
   "execution_count": null,
   "metadata": {},
   "outputs": [],
   "source": [
    "set(tips['day'].values)"
   ]
  },
  {
   "cell_type": "code",
   "execution_count": null,
   "metadata": {},
   "outputs": [],
   "source": [
    "# Best day to work?  Could use a similar method and filter by day \n",
    "tips[tips['day']=='Thur']"
   ]
  },
  {
   "cell_type": "code",
   "execution_count": null,
   "metadata": {},
   "outputs": [],
   "source": [
    "# now pick off tips and sum them. \n",
    "tips[tips['day']=='Thur']['tip'].sum()\n",
    "# and then for Fri, Sat, Sun ... "
   ]
  },
  {
   "cell_type": "markdown",
   "metadata": {},
   "source": [
    "## Group By"
   ]
  },
  {
   "cell_type": "code",
   "execution_count": null,
   "metadata": {},
   "outputs": [],
   "source": [
    "# Use groupby to grab them all at once ...  what days do I want to work?\n",
    "tips.groupby('day')[['tip']].sum()\n",
    "# Why double brackets? \n",
    "# https://stackoverflow.com/questions/33417991/pandas-why-are-double-brackets-needed-to-select-column-after-boolean-indexing"
   ]
  },
  {
   "cell_type": "code",
   "execution_count": null,
   "metadata": {},
   "outputs": [],
   "source": [
    "# so, what is the object created by groupby()?\n",
    "tips.groupby('day')[['tip']]"
   ]
  },
  {
   "cell_type": "code",
   "execution_count": null,
   "metadata": {},
   "outputs": [],
   "source": [
    "# add the total bill (total)\n",
    "tips.groupby('day')[['total_bill', 'tip']].sum()"
   ]
  },
  {
   "cell_type": "code",
   "execution_count": null,
   "metadata": {},
   "outputs": [],
   "source": [
    "# Look at some averages by day\n",
    "tips.groupby('day')[['total_bill', 'tip', 'percent']].mean()"
   ]
  },
  {
   "cell_type": "code",
   "execution_count": null,
   "metadata": {},
   "outputs": [],
   "source": [
    "# Aggregate - Look at more summary stats:\n",
    "tips.groupby('day')[['total_bill', 'tip']].aggregate(['sum', 'mean', 'median'])"
   ]
  },
  {
   "cell_type": "code",
   "execution_count": null,
   "metadata": {},
   "outputs": [],
   "source": [
    "# median values by time (lunch/dinner)\n",
    "tips.groupby('time')[['total_bill', 'tip', 'percent']].median()"
   ]
  },
  {
   "cell_type": "code",
   "execution_count": null,
   "metadata": {},
   "outputs": [],
   "source": [
    "# female/male?\n",
    "tips.groupby('sex')[['total_bill', 'tip', 'percent']].mean()"
   ]
  },
  {
   "cell_type": "code",
   "execution_count": null,
   "metadata": {},
   "outputs": [],
   "source": [
    "# smoker/non-smoker?\n",
    "tips.groupby('smoker')[['total_bill', 'tip']].aggregate(['mean','median', 'std'])"
   ]
  },
  {
   "cell_type": "code",
   "execution_count": null,
   "metadata": {},
   "outputs": [],
   "source": [
    "# Multiple levels -- \n",
    "tips.groupby(['day', 'sex'])[['total_bill', 'tip', 'percent']].median()"
   ]
  },
  {
   "cell_type": "code",
   "execution_count": null,
   "metadata": {},
   "outputs": [],
   "source": [
    "tips.groupby(['day', 'smoker'])[['total_bill', 'tip', 'percent']].aggregate(['mean', 'median'])"
   ]
  },
  {
   "cell_type": "code",
   "execution_count": null,
   "metadata": {},
   "outputs": [],
   "source": [
    "tips.groupby(['day', 'sex', 'smoker'])[['total_bill', 'tip', 'percent']].median()"
   ]
  },
  {
   "cell_type": "markdown",
   "metadata": {},
   "source": [
    "## Dispatch Methods"
   ]
  },
  {
   "cell_type": "code",
   "execution_count": null,
   "metadata": {},
   "outputs": [],
   "source": [
    "# Use the describe() method that's defined for DataFrame and Series objects -- essentially \"passed through\" the GroupBy.\n",
    "tips.groupby('day')[['total_bill', 'tip']].describe()"
   ]
  },
  {
   "cell_type": "markdown",
   "metadata": {},
   "source": [
    "## Group By Iterator -- Iterate through the resulting groups"
   ]
  },
  {
   "cell_type": "code",
   "execution_count": null,
   "metadata": {},
   "outputs": [],
   "source": [
    "# loop through the day groups and show some stuff\n",
    "for (day, group) in tips.groupby('day'):\n",
    "    print(\"{:5s}  {:3d}  ${:.2f}\".format(day, group.shape[0], group['total_bill'].sum()))"
   ]
  }
 ],
 "metadata": {
  "kernelspec": {
   "display_name": "Python 3",
   "language": "python",
   "name": "python3"
  },
  "language_info": {
   "codemirror_mode": {
    "name": "ipython",
    "version": 3
   },
   "file_extension": ".py",
   "mimetype": "text/x-python",
   "name": "python",
   "nbconvert_exporter": "python",
   "pygments_lexer": "ipython3",
   "version": "3.7.1"
  }
 },
 "nbformat": 4,
 "nbformat_minor": 2
}
