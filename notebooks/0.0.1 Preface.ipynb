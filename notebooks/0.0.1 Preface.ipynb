{
 "cells": [
  {
   "cell_type": "markdown",
   "metadata": {},
   "source": [
    "# Preface\n",
    "\n",
    "This set of Jupyter notebooks is for use in the course \"Information Technology for Operations\" - INSY 6500 at Auburn.  The course has is being developed by Professor Jeff Smith (http://jsmith.co) and his gradauate students and the first offering of the course will be Fall Semester 2018.\n",
    "\n",
    "This is our first experience with using Jupyter notebooks in a class environment.  It will undoubtedly be a learning experience for all of us!  Your advise and feedback is definitely welcome.\n",
    "\n",
    "Copyright 2018, Jeffrey S. Smith"
   ]
  },
  {
   "cell_type": "code",
   "execution_count": null,
   "metadata": {},
   "outputs": [],
   "source": []
  }
 ],
 "metadata": {
  "kernelspec": {
   "display_name": "Python 3",
   "language": "python",
   "name": "python3"
  },
  "language_info": {
   "codemirror_mode": {
    "name": "ipython",
    "version": 3
   },
   "file_extension": ".py",
   "mimetype": "text/x-python",
   "name": "python",
   "nbconvert_exporter": "python",
   "pygments_lexer": "ipython3",
   "version": "3.6.4"
  }
 },
 "nbformat": 4,
 "nbformat_minor": 2
}
