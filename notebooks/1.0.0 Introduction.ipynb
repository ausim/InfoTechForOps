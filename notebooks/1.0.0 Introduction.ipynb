{
 "cells": [
  {
   "cell_type": "markdown",
   "metadata": {},
   "source": [
    "# Introduction and Course Schedule"
   ]
  },
  {
   "cell_type": "markdown",
   "metadata": {},
   "source": [
    "Welcome to the course \"Information Technology for Operations.\"  Our focus is on the use of modern information techology tools for operations and industrial engineering-related topics.  \n",
    "\n",
    "## Course Schedule\n",
    "\n",
    "| Week | Topic(s) |\n",
    "| ----- |\n",
    "| 1 | Course introduction, technology toolkit, and Python |\n",
    "| 2 | Python - SciPy, Numpy |\n",
    "| 3 | Python - Pandas |\n",
    "| 4 | Data set example 1 |\n",
    "| 5 | Python - Matplotlib |\n",
    "| 6 | R, RStudio |\n",
    "| 7 | R |\n",
    "| 8 | R |\n",
    "| 9 | Data set example 2 |\n",
    "| 10 | Data Visualization |\n",
    "| 11 | Data Visualization |\n",
    "| 12 | Data Visualization |\n",
    "| 13 | Relational Databases |\n",
    "| 14 | Relational Databases |\n",
    "| 15 | Data set example 3 |\n",
    "\n"
   ]
  },
  {
   "cell_type": "code",
   "execution_count": null,
   "metadata": {},
   "outputs": [],
   "source": []
  },
  {
   "cell_type": "code",
   "execution_count": null,
   "metadata": {},
   "outputs": [],
   "source": []
  }
 ],
 "metadata": {
  "kernelspec": {
   "display_name": "Python 3",
   "language": "python",
   "name": "python3"
  },
  "language_info": {
   "codemirror_mode": {
    "name": "ipython",
    "version": 3
   },
   "file_extension": ".py",
   "mimetype": "text/x-python",
   "name": "python",
   "nbconvert_exporter": "python",
   "pygments_lexer": "ipython3",
   "version": "3.6.4"
  }
 },
 "nbformat": 4,
 "nbformat_minor": 2
}
