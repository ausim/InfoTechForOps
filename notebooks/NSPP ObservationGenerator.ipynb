{
 "cells": [
  {
   "cell_type": "markdown",
   "metadata": {},
   "source": [
    "# NSPP Generator\n",
    "\n",
    "Generate observations of a non-stationary Poisson Process -- like arrivals to a customer-centered system."
   ]
  },
  {
   "cell_type": "code",
   "execution_count": null,
   "metadata": {
    "scrolled": true
   },
   "outputs": [],
   "source": [
    "%matplotlib inline\n",
    "import numpy as np\n",
    "import matplotlib.pyplot as plt\n",
    "plt.style.use('seaborn-whitegrid')"
   ]
  },
  {
   "cell_type": "markdown",
   "metadata": {},
   "source": [
    "## Setting Things Up"
   ]
  },
  {
   "cell_type": "code",
   "execution_count": null,
   "metadata": {
    "scrolled": false
   },
   "outputs": [],
   "source": [
    "# defaults\n",
    "dsname = 'x' # A, B, or C for the video, anything else, otherwise\n",
    "arrival_rates = np.array([10.0, 60.0, 42.0, 20.0, 10.0, 5.0, 12.0, 15.0])\n",
    "durations = np.zeros([len(arrival_rates)])\n",
    "durations.fill(1.0)\n",
    "\n",
    "#\n",
    "# The experiment values for the video\n",
    "#\n",
    "if dsname == 'A':\n",
    "    arrival_rates = np.array([35.0]) # A\n",
    "    durations = np.array([8.0]) #A\n",
    "elif dsname == 'B':\n",
    "    arrival_rates = np.array([20, 50]) # B\n",
    "    durations = np.array([4.0, 4.0]) #B\n",
    "elif dsname == 'C':\n",
    "    arrival_rates = np.array([20.0, 70.0, 40.0, 10.0]) # C\n",
    "    durations = np.array([2.0, 2.0, 2.0, 2.0])  #C\n",
    "\n",
    "if len(arrival_rates) != len(durations):\n",
    "    print(\"Error -- lengths of arrs and durrs much match\")\n",
    "# probabilites of retention\n",
    "prs = arrival_rates / np.max(arrival_rates)\n",
    "# end times\n",
    "ends = np.zeros(len(durations))\n",
    "ends[0] = durations[0]\n",
    "for j in range(1, len(durations)):\n",
    "    ends[j] = ends[j-1]+durations[j]\n",
    "# total time\n",
    "total_time = np.sum(durations)\n",
    "num_bins = int(total_time)\n",
    "# max arrival rate\n",
    "max_arr = np.max(arrival_rates)\n",
    "l = 1/max_arr\n",
    "print(\"     Num. Periods: {:}\".format(len(arrival_rates)))\n",
    "print(\"         Arrivals: {:}\".format(arrival_rates))\n",
    "print(\"        Durations: {:}\".format(durations))\n",
    "print(\"           Probs.: {:}\".format(prs))\n",
    "print(\"       Total time: {:} ({:} histogram bins)\".format(total_time, num_bins))\n",
    "print(\"             Lmax: {:.3f}\".format(l))\n",
    "print(\"Mean arrival rate: {:.2f}\".format(np.mean(arrival_rates)))\n",
    "print(\"         Mean IAT: {:.4f}\".format(1/np.mean(arrival_rates)))\n",
    "\n",
    "# The arrival rate process\n",
    "fig = plt.figure(figsize=(8, 4))\n",
    "ax = plt.axes()\n",
    "p = ax.bar(np.cumsum(durations)-.5*durations[0],arrival_rates, durations)"
   ]
  },
  {
   "cell_type": "code",
   "execution_count": null,
   "metadata": {},
   "outputs": [],
   "source": [
    "arrival_rates, durations"
   ]
  },
  {
   "cell_type": "markdown",
   "metadata": {},
   "source": [
    "## Define the generate() function"
   ]
  },
  {
   "cell_type": "code",
   "execution_count": null,
   "metadata": {
    "scrolled": true
   },
   "outputs": [],
   "source": [
    "# Generate the arrival times (arrs) and interarrival times (iats)\n",
    "# based on the max arrival rate (l), ends, and prs\n",
    "def generate(l, ends, prs) :\n",
    "    arrs = []\n",
    "    last = len(ends)-1\n",
    "    tnow = 0.0\n",
    "    current = 0\n",
    "    while True:\n",
    "        iat = np.random.exponential(l)\n",
    "        tnow += iat\n",
    "        # done?\n",
    "        if tnow > ends[last]:\n",
    "            break\n",
    "        # need to move to the next period?\n",
    "        elif tnow > ends[current]:\n",
    "            current += 1\n",
    "        # thinning\n",
    "        if np.random.random() < prs[current]:\n",
    "            arrs.append(tnow)\n",
    "    # Done with arrivals, now get the interarrival times\n",
    "    iats = []\n",
    "    iats.append(arrs[0])\n",
    "    for j in range(1, len(arrs)):\n",
    "        iats.append(arrs[j] - arrs[j-1])\n",
    "    return (iats, arrs)\n",
    "\n",
    "# trial run\n",
    "# generate and plot one replication\n",
    "iats, arrs = generate(l, ends, prs)\n",
    "fig, ax = plt.subplots(nrows=1, ncols=2, figsize=(12, 5))\n",
    "v1 = ax[0].hist(iats)\n",
    "v2 = ax[1].hist(arrs, bins=num_bins) "
   ]
  },
  {
   "cell_type": "code",
   "execution_count": null,
   "metadata": {},
   "outputs": [],
   "source": [
    "# What if it were actually a stationary Poisson process?\n",
    "meaniat = np.mean(iats)\n",
    "num = int(total_time / meaniat)\n",
    "xiats = np.random.exponential(meaniat, num)\n",
    "xarrs = np.cumsum(xiats)\n",
    "fig, ax = plt.subplots(nrows=1, ncols=2, figsize=(12, 5))\n",
    "v1 = ax[0].hist(xiats)\n",
    "v2 = ax[1].hist(xarrs, bins=num_bins) \n",
    "num, meaniat"
   ]
  },
  {
   "cell_type": "markdown",
   "metadata": {},
   "source": [
    "## Run Multiple Replications"
   ]
  },
  {
   "cell_type": "code",
   "execution_count": null,
   "metadata": {
    "scrolled": false
   },
   "outputs": [],
   "source": [
    "reps = 10\n",
    "alliats = []\n",
    "allarrs = []\n",
    "for j in range(reps):\n",
    "    iats, arrs = generate(l,ends, prs)\n",
    "    alliats.append(iats)\n",
    "    allarrs.append(arrs)\n",
    "    "
   ]
  },
  {
   "cell_type": "code",
   "execution_count": null,
   "metadata": {
    "scrolled": false
   },
   "outputs": [],
   "source": [
    "fig, ax = plt.subplots(nrows=reps, ncols=2, figsize=(10, 3*reps))\n",
    "for j in range(reps):\n",
    "    ax[j][0].hist(alliats[j])\n",
    "    ax[j][1].hist(allarrs[j], bins=num_bins)"
   ]
  },
  {
   "cell_type": "code",
   "execution_count": null,
   "metadata": {
    "scrolled": true
   },
   "outputs": [],
   "source": [
    "# write output files\n",
    "for j in range(len(allarrs)):\n",
    "    fp = open('..\\data\\day{:}{:}.csv'.format(dsname, j+1), \"w\")\n",
    "    fp.write(\"\\n\".join([\"{:.3f}\".format(t) for t in allarrs[j]]))\n",
    "    fp.close\n",
    "# not sure why I need this, but seems necessary for a final buffer write\n",
    "del fp"
   ]
  },
  {
   "cell_type": "code",
   "execution_count": null,
   "metadata": {},
   "outputs": [],
   "source": []
  }
 ],
 "metadata": {
  "kernelspec": {
   "display_name": "Python 3",
   "language": "python",
   "name": "python3"
  },
  "language_info": {
   "codemirror_mode": {
    "name": "ipython",
    "version": 3
   },
   "file_extension": ".py",
   "mimetype": "text/x-python",
   "name": "python",
   "nbconvert_exporter": "python",
   "pygments_lexer": "ipython3",
   "version": "3.7.1"
  }
 },
 "nbformat": 4,
 "nbformat_minor": 2
}
