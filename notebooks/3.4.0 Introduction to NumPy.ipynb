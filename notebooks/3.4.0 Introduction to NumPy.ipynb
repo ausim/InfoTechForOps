{
 "cells": [
  {
   "cell_type": "markdown",
   "metadata": {},
   "source": [
    "# Introduction to NumPy\n",
    "\n",
    "Lots of these notes are from Chapter 2 of VanderPlas -- you should definitely go through his chapter carefully.  I will use the book notes and these in class.\n",
    "\n",
    "The NumPy documentation: https://docs.scipy.org/doc/numpy/"
   ]
  },
  {
   "cell_type": "code",
   "execution_count": null,
   "metadata": {},
   "outputs": [],
   "source": [
    "# import the NumPy module and display the version number\n",
    "import numpy as np\n",
    "np.__version__"
   ]
  },
  {
   "cell_type": "code",
   "execution_count": null,
   "metadata": {},
   "outputs": [],
   "source": [
    "# Build-in documentation\n",
    "# np.<TAB> in IPython\n",
    "np?"
   ]
  },
  {
   "cell_type": "code",
   "execution_count": null,
   "metadata": {},
   "outputs": [],
   "source": [
    "# see the things in the np namespace\n",
    "dir(np)"
   ]
  },
  {
   "cell_type": "code",
   "execution_count": null,
   "metadata": {},
   "outputs": [],
   "source": [
    "# Create a function to display the array attributes and data (optinally).  \n",
    "#  Note the use of the default value for the show_data parameter.  Made\n",
    "#  this part of the display optional (and off by default) to support large\n",
    "#  arrays (that you wouldn't want to try to show explicitly)\n",
    "def show(the_array, show_data = 0):\n",
    "    print(\"  Dimension: {:}\".format(the_array.ndim))\n",
    "    print(\"       Size: {:}\".format(the_array.size))\n",
    "    print(\"      Shape: {:}\".format(the_array.shape))    \n",
    "    print(\"  Data Type: {:}\".format(the_array.dtype))    \n",
    "    print(\"  Item Size: {:}\".format(the_array.itemsize))\n",
    "    print(\"Data Buffer: {:}\".format(the_array.data))\n",
    "    if show_data:\n",
    "        print(the_array)"
   ]
  },
  {
   "cell_type": "markdown",
   "metadata": {},
   "source": [
    "## NumPy Arrays\n",
    "### Creating Arrays and Access Elements"
   ]
  },
  {
   "cell_type": "code",
   "execution_count": null,
   "metadata": {},
   "outputs": [],
   "source": [
    "# Create a NumPy array from a list\n",
    "a = np.array([1.5, 0.7, 22.4])\n",
    "show(a, 1)"
   ]
  },
  {
   "cell_type": "code",
   "execution_count": null,
   "metadata": {},
   "outputs": [],
   "source": [
    "# The second element\n",
    "a[1]"
   ]
  },
  {
   "cell_type": "code",
   "execution_count": null,
   "metadata": {},
   "outputs": [],
   "source": [
    "# Multi-dimensional array.  Note that NumPy arrays are homogenous -- all\n",
    "#   elements are the same data type (dtype) -- integers in this case\n",
    "b = np.array(\n",
    "    [ [1,  2,  3,  4,   5]\n",
    "     ,[6,  7,  8,  9,  10]\n",
    "     ,[11, 12, 13, 14, 15] ] )\n",
    "show(b, 1)"
   ]
  },
  {
   "cell_type": "code",
   "execution_count": null,
   "metadata": {},
   "outputs": [],
   "source": [
    "# the (i, j)the element\n",
    "i = 2\n",
    "j = 3\n",
    "b[i, j]"
   ]
  },
  {
   "cell_type": "code",
   "execution_count": null,
   "metadata": {},
   "outputs": [],
   "source": [
    "# Note that if one elements is a float, all will be upcast since\n",
    "# NumPy arrays are homogeneous\n",
    "b = np.array(\n",
    "    [ [1.0,  2,  3,  4,   5]\n",
    "     ,[6,  7,  8,  9,  10]\n",
    "     ,[11, 12, 13, 14, 15] ] )\n",
    "show(b,1)\n",
    "# since Python lists are heterogeneous (in data types), there\n",
    "# is no upcasting and a similar definition would have a list of lists\n",
    "# with 1 float and the rest integers."
   ]
  },
  {
   "cell_type": "code",
   "execution_count": null,
   "metadata": {},
   "outputs": [],
   "source": [
    "# zeros to create and array and initialize with zeros. Ones() works similarly.\n",
    "c = np.zeros((3, 8), dtype=int)\n",
    "show(c, 1)"
   ]
  },
  {
   "cell_type": "code",
   "execution_count": null,
   "metadata": {},
   "outputs": [],
   "source": [
    "# full() for arbitrary values\n",
    "c = np.full((3, 3, 3), 82.6)\n",
    "show(c, 1)"
   ]
  },
  {
   "cell_type": "code",
   "execution_count": null,
   "metadata": {},
   "outputs": [],
   "source": [
    "# Create a NumPy array and initialize it with integers from 0 - 14 using\n",
    "#   the arange() function.\n",
    "a = np.arange(15)\n",
    "show(a, 1)"
   ]
  },
  {
   "cell_type": "code",
   "execution_count": null,
   "metadata": {
    "scrolled": true
   },
   "outputs": [],
   "source": [
    "# Create the same array, but then reshape it to a 3x5 matrix (a \n",
    "#   2-dimensional array, technically)\n",
    "a = np.arange(15).reshape(3,5)\n",
    "show(a, 1)"
   ]
  },
  {
   "cell_type": "code",
   "execution_count": null,
   "metadata": {},
   "outputs": [],
   "source": [
    "# Create a 20-element array of floats form 0 - 19 and reshape it to a 5x4 array.\n",
    "# Note that we create an anonymous array and send that to\n",
    "# the show() function.  The structure will be garbage-collected\n",
    "# after the function call since it is anonymous.\n",
    "show(np.arange(20.0).reshape(5,4), 1)"
   ]
  },
  {
   "cell_type": "code",
   "execution_count": null,
   "metadata": {},
   "outputs": [],
   "source": [
    "# Use a comprehension - From VanderPlas\n",
    "# Nested lists result in multi-dimensional arrays\n",
    "# Creating an anonymous array (see above)\n",
    "show(np.array([range(i, i + 3) for i in [2, 4, 6]]), 1)"
   ]
  },
  {
   "cell_type": "code",
   "execution_count": null,
   "metadata": {},
   "outputs": [],
   "source": [
    "# Show the details of what's going in the above\n",
    "[range(i, i + 3) for i in [2, 4, 6]]"
   ]
  },
  {
   "cell_type": "code",
   "execution_count": null,
   "metadata": {},
   "outputs": [],
   "source": [
    "[list(range(i, i + 3)) for i in [2, 4, 6]]"
   ]
  },
  {
   "cell_type": "code",
   "execution_count": null,
   "metadata": {},
   "outputs": [],
   "source": [
    "# Create a 3x3 array of normally distributed random values\n",
    "# with mean 96 and standard deviation 14\n",
    "c = np.random.normal(96, 14, (3, 3))\n",
    "show(c,1)"
   ]
  },
  {
   "cell_type": "code",
   "execution_count": null,
   "metadata": {},
   "outputs": [],
   "source": [
    "# Some more samples from VanderPlas\n",
    "np.random.seed(0)  # seed for reproducibility\n",
    "\n",
    "x1 = np.random.randint(10, size=6)  # One-dimensional array\n",
    "x2 = np.random.randint(10, size=(3, 4))  # Two-dimensional array\n",
    "x3 = np.random.randint(10, size=(3, 4, 5))  # Three-dimensional array"
   ]
  },
  {
   "cell_type": "code",
   "execution_count": null,
   "metadata": {},
   "outputs": [],
   "source": [
    "# Iterating through a Python list of NumPy arrays.\n",
    "al = [x1, x2, x3]\n",
    "for a in al:\n",
    "    show(a, 1)\n",
    "    print(\"\")"
   ]
  },
  {
   "cell_type": "code",
   "execution_count": null,
   "metadata": {},
   "outputs": [],
   "source": [
    "# Element (1, 2, 3) from x3\n",
    "x3[1, 2, 3]"
   ]
  },
  {
   "cell_type": "code",
   "execution_count": null,
   "metadata": {},
   "outputs": [],
   "source": [
    "# flatten a multi-dimensional array\n",
    "show(x3.flatten(), 1)"
   ]
  },
  {
   "cell_type": "code",
   "execution_count": null,
   "metadata": {},
   "outputs": [],
   "source": [
    "# NumPy arrays are mutable.\n",
    "x2[0,0] = 12\n",
    "x2"
   ]
  },
  {
   "cell_type": "code",
   "execution_count": null,
   "metadata": {},
   "outputs": [],
   "source": [
    "# Note the behavior when we try to assign a different data type ...\n",
    "x2[1, 1] = 7.325\n",
    "show(x2,1)"
   ]
  },
  {
   "cell_type": "markdown",
   "metadata": {},
   "source": [
    "### Reshaping and np.newaxis"
   ]
  },
  {
   "cell_type": "code",
   "execution_count": null,
   "metadata": {},
   "outputs": [],
   "source": [
    "x = np.array([1, 2, 3])\n",
    "x"
   ]
  },
  {
   "cell_type": "code",
   "execution_count": null,
   "metadata": {},
   "outputs": [],
   "source": [
    "# What is the difference between x and y?\n",
    "y = x.reshape((1,3))\n",
    "y"
   ]
  },
  {
   "cell_type": "code",
   "execution_count": null,
   "metadata": {},
   "outputs": [],
   "source": [
    "# What is the difference between y and z?\n",
    "z = x.reshape((3,1))\n",
    "z"
   ]
  },
  {
   "cell_type": "code",
   "execution_count": null,
   "metadata": {},
   "outputs": [],
   "source": [
    "x.shape, y.shape,z.shape"
   ]
  },
  {
   "cell_type": "code",
   "execution_count": null,
   "metadata": {},
   "outputs": [],
   "source": [
    "x[np.newaxis, :]"
   ]
  },
  {
   "cell_type": "code",
   "execution_count": null,
   "metadata": {},
   "outputs": [],
   "source": [
    "x[:,np.newaxis]"
   ]
  },
  {
   "cell_type": "code",
   "execution_count": null,
   "metadata": {},
   "outputs": [],
   "source": [
    "a = np.arange(27).reshape((3,3,3))\n",
    "a"
   ]
  },
  {
   "cell_type": "code",
   "execution_count": null,
   "metadata": {},
   "outputs": [],
   "source": [
    "a = np.arange(81).reshape((3,3,3,3))\n",
    "a"
   ]
  },
  {
   "cell_type": "markdown",
   "metadata": {},
   "source": [
    " ### Slices - Views and copies\n",
    " \n",
    " Slice: [i:j:k] - start:stop:stride"
   ]
  },
  {
   "cell_type": "code",
   "execution_count": null,
   "metadata": {},
   "outputs": [],
   "source": [
    "# slice example - upper-left 2x3 sub-matrix\n",
    "# :2 - rows 0, 1\n",
    "# :3 - columns 0, 1, 2\n",
    "x2[:2, :3]"
   ]
  },
  {
   "cell_type": "code",
   "execution_count": null,
   "metadata": {},
   "outputs": [],
   "source": [
    "# lower right 2x3\n",
    "x2[-2:, -3:]"
   ]
  },
  {
   "cell_type": "code",
   "execution_count": null,
   "metadata": {},
   "outputs": [],
   "source": [
    "# middle 1x2\n",
    "x2[1:-1, 1:-1]"
   ]
  },
  {
   "cell_type": "code",
   "execution_count": null,
   "metadata": {},
   "outputs": [],
   "source": [
    "# note that slices are (by default) views of the array, not copies.\n",
    "x = x2[:2, :3]\n",
    "x, x2"
   ]
  },
  {
   "cell_type": "code",
   "execution_count": null,
   "metadata": {},
   "outputs": [],
   "source": [
    "x[0, 0] = 477\n",
    "x, x2"
   ]
  },
  {
   "cell_type": "code",
   "execution_count": null,
   "metadata": {},
   "outputs": [],
   "source": [
    "# If you want a copy, rather than a view, use the copy() function.\n",
    "x = x2[:2, :3].copy()\n",
    "x[0, 0] = 976\n",
    "x, x2"
   ]
  },
  {
   "cell_type": "markdown",
   "metadata": {},
   "source": [
    "## Array Concatenation and Splitting - VP 02.02"
   ]
  },
  {
   "cell_type": "markdown",
   "metadata": {},
   "source": [
    "## Universal Functions and the Slowness of Loops - VP 02.03"
   ]
  },
  {
   "cell_type": "markdown",
   "metadata": {},
   "source": [
    "## Axes and Aggregate Functions"
   ]
  },
  {
   "cell_type": "code",
   "execution_count": null,
   "metadata": {},
   "outputs": [],
   "source": [
    "a = np.random.normal(5, 1, (5, 3))\n",
    "show(a, 1)"
   ]
  },
  {
   "cell_type": "code",
   "execution_count": null,
   "metadata": {},
   "outputs": [],
   "source": [
    "# Overall sum -- all elements of the array\n",
    "a.sum()"
   ]
  },
  {
   "cell_type": "code",
   "execution_count": null,
   "metadata": {},
   "outputs": [],
   "source": [
    "# Sum along an axis\n",
    "a.sum(axis=0)"
   ]
  },
  {
   "cell_type": "code",
   "execution_count": null,
   "metadata": {},
   "outputs": [],
   "source": [
    "# Sum along the other axis\n",
    "a.sum(axis=1)"
   ]
  },
  {
   "cell_type": "code",
   "execution_count": null,
   "metadata": {},
   "outputs": [],
   "source": [
    "# the average of the 3rd column\n",
    "a.mean(axis=0)[2]"
   ]
  },
  {
   "cell_type": "code",
   "execution_count": null,
   "metadata": {},
   "outputs": [],
   "source": [
    "# or\n",
    "ax = 0\n",
    "a.sum(axis=ax)[2]/a.shape[ax]"
   ]
  },
  {
   "cell_type": "code",
   "execution_count": null,
   "metadata": {},
   "outputs": [],
   "source": [
    "# average of the 4th row\n",
    "a.mean(axis=1)[3]"
   ]
  },
  {
   "cell_type": "code",
   "execution_count": null,
   "metadata": {},
   "outputs": [],
   "source": [
    "# or\n",
    "ax = 1\n",
    "a.sum(axis=ax)[3]/a.shape[ax]"
   ]
  },
  {
   "cell_type": "code",
   "execution_count": null,
   "metadata": {},
   "outputs": [],
   "source": [
    "b = np.random.randint(1, 6, (3, 4, 6))\n",
    "show(b, 1)"
   ]
  },
  {
   "cell_type": "code",
   "execution_count": null,
   "metadata": {},
   "outputs": [],
   "source": [
    "# Mean of the \"planes\"\n",
    "b.mean(axis=0)"
   ]
  },
  {
   "cell_type": "code",
   "execution_count": null,
   "metadata": {},
   "outputs": [],
   "source": [
    "# Mean of the ?\n",
    "b.mean(axis=1)"
   ]
  },
  {
   "cell_type": "code",
   "execution_count": null,
   "metadata": {},
   "outputs": [],
   "source": [
    "# Mean of the ?\n",
    "b.mean(axis=2)"
   ]
  },
  {
   "cell_type": "markdown",
   "metadata": {},
   "source": [
    "## Example with A Dataset from a CSV file"
   ]
  },
  {
   "cell_type": "code",
   "execution_count": null,
   "metadata": {},
   "outputs": [],
   "source": [
    "# erv.csv data - a (100x15 matrix of floats)\n",
    "erv = np.genfromtxt('..\\data\\erv.csv', delimiter=',')\n",
    "show(erv)"
   ]
  },
  {
   "cell_type": "code",
   "execution_count": null,
   "metadata": {},
   "outputs": [],
   "source": [
    "# show a sample - upper left 5x5 (first five columns of the first 5 rows)\n",
    "for r in erv[:5, :5]:\n",
    "    print(r)"
   ]
  },
  {
   "cell_type": "code",
   "execution_count": null,
   "metadata": {},
   "outputs": [],
   "source": [
    "# Use the aggregate sum to find the column averages in one statement.\n",
    "erv.mean(axis=0)"
   ]
  },
  {
   "cell_type": "code",
   "execution_count": null,
   "metadata": {},
   "outputs": [],
   "source": [
    "# row averages\n",
    "erv.mean(axis=1)"
   ]
  },
  {
   "cell_type": "code",
   "execution_count": null,
   "metadata": {},
   "outputs": [],
   "source": [
    "# Load matplotlib\n",
    "%matplotlib inline\n",
    "import matplotlib.pyplot as plt"
   ]
  },
  {
   "cell_type": "code",
   "execution_count": null,
   "metadata": {},
   "outputs": [],
   "source": [
    "# Show a histogram of the jth column (j between 0 and 14)\n",
    "j = 9\n",
    "plt.hist(erv[:,j])\n",
    "plt.show()"
   ]
  },
  {
   "cell_type": "code",
   "execution_count": null,
   "metadata": {},
   "outputs": [],
   "source": [
    "# show histograms of all 15 columns in a single plot\n",
    "plt.figure(figsize=(20, 8))\n",
    "for j in range(1, 16):\n",
    "    plt.subplot(3,5,j)\n",
    "    plt.hist(erv[:,j-1])\n",
    "plt.show()"
   ]
  },
  {
   "cell_type": "code",
   "execution_count": null,
   "metadata": {
    "scrolled": true
   },
   "outputs": [],
   "source": [
    "# or with color\n",
    "c = ['orange', 'green', 'red', 'beige', 'brown'\n",
    "    ,'dimgray', 'firebrick', 'darkkhaki', 'indigo', 'darksalmon'\n",
    "    ,'forestgreen', 'fuchsia', 'darkcyan', 'darkviolet','darkgoldenrod'\n",
    "    ]\n",
    "plt.figure(figsize=(20, 8))\n",
    "for j in range(15):\n",
    "    plt.subplot(3,5,j+1)\n",
    "    plt.hist(erv[:,j], color=c[j])\n",
    "plt.show()"
   ]
  },
  {
   "cell_type": "code",
   "execution_count": null,
   "metadata": {},
   "outputs": [],
   "source": [
    "# Scatter plot of column col1 vs column col2\n",
    "col1 = 0\n",
    "col2 = 14\n",
    "plt.scatter(erv[:, col1], erv[:, col2]);"
   ]
  },
  {
   "cell_type": "code",
   "execution_count": null,
   "metadata": {},
   "outputs": [],
   "source": [
    "plt.scatter?"
   ]
  },
  {
   "cell_type": "code",
   "execution_count": null,
   "metadata": {},
   "outputs": [],
   "source": []
  }
 ],
 "metadata": {
  "kernelspec": {
   "display_name": "Python 3",
   "language": "python",
   "name": "python3"
  },
  "language_info": {
   "codemirror_mode": {
    "name": "ipython",
    "version": 3
   },
   "file_extension": ".py",
   "mimetype": "text/x-python",
   "name": "python",
   "nbconvert_exporter": "python",
   "pygments_lexer": "ipython3",
   "version": "3.7.1"
  }
 },
 "nbformat": 4,
 "nbformat_minor": 2
}
