{
 "cells": [
  {
   "cell_type": "markdown",
   "metadata": {},
   "source": [
    "# Python Basics\n",
    "\n",
    "This chapter focuses on the Python componemnt of the class.  We will focus exclusively on using Python for interactive data science work rather than on \"programming\" per se."
   ]
  },
  {
   "cell_type": "markdown",
   "metadata": {},
   "source": [
    "## Python Book\n",
    "VanderPlas, J. <i>Python Data Science Handbook: Essential Tools for Working with Data</i>, O'Reilly Media, 2016.  Available on \n",
    "Amazon and at https://jakevdp.github.io/PythonDataScienceHandbook/.\n",
    "\n",
    "## Anaconda and Conda\n",
    "In class in in our computer labs, we will use the Anaconda Python distribution with Python 3.6.  See the Course Toolkit and Reference Tools page for more details.  You can also find a useful Conda Cheatsheet at https://conda.io/docs/_downloads/conda-cheatsheet.pdf\n"
   ]
  },
  {
   "cell_type": "markdown",
   "metadata": {},
   "source": [
    "## Key Python Modules\n",
    "We will use several common Python <i>modules</i>.  A modules is similar to a library in other lanugages.  The modules that we will use include:\n",
    "<ul>\n",
    "<li />NumPy\n",
    "<li />Pandas\n",
    "<li />SciPy\n",
    "<li />Matplotlib\n",
    "</ul>\n",
    "In addition, we will also learn how to create and use our own modules.\n"
   ]
  },
  {
   "cell_type": "markdown",
   "metadata": {},
   "source": [
    "## Introduction to Python"
   ]
  },
  {
   "cell_type": "code",
   "execution_count": null,
   "metadata": {},
   "outputs": [],
   "source": [
    "print (\"Hello World!\")"
   ]
  },
  {
   "cell_type": "code",
   "execution_count": null,
   "metadata": {},
   "outputs": [],
   "source": [
    "for i in range(5):\n",
    "    j = i + 1\n",
    "    print (\"[{:}] Hello World!\".format(j))"
   ]
  },
  {
   "cell_type": "code",
   "execution_count": null,
   "metadata": {},
   "outputs": [],
   "source": [
    "for i in range(20):\n",
    "    if i % 2:\n",
    "        print(i)\n",
    "        "
   ]
  },
  {
   "cell_type": "markdown",
   "metadata": {},
   "source": [
    "## Sample Data Structure and Accessing/Processing/Comprehensions"
   ]
  },
  {
   "cell_type": "code",
   "execution_count": null,
   "metadata": {},
   "outputs": [],
   "source": [
    "# creating a list to define a person\n",
    "person = [\"Tom Howard\", 54, 6.0]\n",
    "\n",
    "# creating a list of lists to define a team\n",
    "people = [\n",
    "    [\"Tom Howard\",          54,  6.0],\n",
    "    [\"Jane Grimm\",          19,  4.9],\n",
    "    [\"Sam Brown\",           25,  6.2],\n",
    "    [\"Sarah Joan Spade\",    26, 5.25],\n",
    "    [\"Blaine Jones\",        62,  5.8],\n",
    "    [\"Devin Callahan\",      32, 5.92],\n",
    "]"
   ]
  },
  {
   "cell_type": "code",
   "execution_count": null,
   "metadata": {},
   "outputs": [],
   "source": [
    "person"
   ]
  },
  {
   "cell_type": "code",
   "execution_count": null,
   "metadata": {},
   "outputs": [],
   "source": [
    "people"
   ]
  },
  {
   "cell_type": "code",
   "execution_count": null,
   "metadata": {},
   "outputs": [],
   "source": [
    "# How many people on the team\n",
    "len(people)"
   ]
  },
  {
   "cell_type": "code",
   "execution_count": null,
   "metadata": {},
   "outputs": [],
   "source": [
    "# Print each person's name and age\n",
    "for p in people:\n",
    "    print(\"{:} is {:} years old\".format(p[0], p[1]))"
   ]
  },
  {
   "cell_type": "code",
   "execution_count": null,
   "metadata": {},
   "outputs": [],
   "source": [
    "# Create a list of all names\n",
    "[p[0] for p in people]"
   ]
  },
  {
   "cell_type": "code",
   "execution_count": null,
   "metadata": {},
   "outputs": [],
   "source": [
    "# Create a list of all last names\n",
    "[p[0].split()[-1] for p in people]"
   ]
  },
  {
   "cell_type": "code",
   "execution_count": null,
   "metadata": {},
   "outputs": [],
   "source": [
    "# Create a list of all ages\n",
    "[p[1] for p in people]"
   ]
  },
  {
   "cell_type": "code",
   "execution_count": null,
   "metadata": {},
   "outputs": [],
   "source": [
    "# Compute the average age\n",
    "sum([p[1] for p in people])/float(len(people))"
   ]
  },
  {
   "cell_type": "code",
   "execution_count": null,
   "metadata": {},
   "outputs": [],
   "source": [
    "# Find the oldest person\n",
    "# max age\n",
    "ages =[p[1] for p in people] \n",
    "max(ages)\n",
    "# which is max? - 62\n",
    "#ages.index(62)\n",
    "# who - person 4\n",
    "#people[4][0]"
   ]
  },
  {
   "cell_type": "code",
   "execution_count": null,
   "metadata": {},
   "outputs": [],
   "source": [
    "# all together\n",
    "people[[p[1] for p in people].index(max([p[1] for p in people]))][0]"
   ]
  },
  {
   "cell_type": "code",
   "execution_count": null,
   "metadata": {},
   "outputs": [],
   "source": [
    "# Find the youngest person\n",
    "people[[p[1] for p in people].index(min([p[1] for p in people]))][0]"
   ]
  },
  {
   "cell_type": "code",
   "execution_count": null,
   "metadata": {},
   "outputs": [],
   "source": []
  }
 ],
 "metadata": {
  "kernelspec": {
   "display_name": "Python 3",
   "language": "python",
   "name": "python3"
  },
  "language_info": {
   "codemirror_mode": {
    "name": "ipython",
    "version": 3
   },
   "file_extension": ".py",
   "mimetype": "text/x-python",
   "name": "python",
   "nbconvert_exporter": "python",
   "pygments_lexer": "ipython3",
   "version": "3.6.4"
  }
 },
 "nbformat": 4,
 "nbformat_minor": 2
}
