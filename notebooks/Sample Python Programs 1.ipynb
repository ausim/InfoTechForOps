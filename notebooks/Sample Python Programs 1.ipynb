{
 "cells": [
  {
   "cell_type": "markdown",
   "metadata": {},
   "source": [
    "# Sample Python Programs1\n",
    "A set of sample Python programs for you to use.  For several of these, Python libraries include more efficient versions -- our goal is to demonstrate some basic programming techniques."
   ]
  },
  {
   "cell_type": "markdown",
   "metadata": {},
   "source": [
    "## Computing the sample mean of a list of numbers\n",
    "The next two cells present simple programs for computing the sample mean of a list of numbers.  The first cell uses a standard programming approach (very similar to what you would see in any progrmaming language) and the second gives a Python-esque version that uses some of the standard Python features."
   ]
  },
  {
   "cell_type": "code",
   "execution_count": null,
   "metadata": {},
   "outputs": [],
   "source": [
    "# --------------\n",
    "# Simple program for computing the sample mean\n",
    "#    of a list of numbers\n",
    "#\n",
    "# define the list of numbers\n",
    "Numbers = [123, 87, 96, 24, 104, 16, 55, 24, 19, 86, 776, 1945, 87.5, 12.34]\n",
    "# running total\n",
    "Total = 0\n",
    "# count of the number of items\n",
    "Count = 0\n",
    "# for each item in the list\n",
    "for Num in Numbers:\n",
    "    # increment the total\n",
    "    Total = Total + Num\n",
    "    # increment the count\n",
    "    Count=Count+1\n",
    "# compute the sample average\n",
    "if Count > 0 :\n",
    "    Average = float(Total)/Count\n",
    "else :\n",
    "    Average = \"Can't compute the average of a sample of size 0.\"\n",
    "# display output\n",
    "print (\"Average of the {:} numbers = {:.3f}\".format(Count, Average))\n"
   ]
  },
  {
   "cell_type": "code",
   "execution_count": null,
   "metadata": {},
   "outputs": [],
   "source": [
    "#\n",
    "# Python-esque version for sample mean\n",
    "# \n",
    "Numbers = [123, 87, 96, 24, 104, 16, 55, 24, 19, 86, 776, 1945, 87.5, 12.34]\n",
    "print (\"Average of the {:} numbers = {:.3f}\".format(len(Numbers), sum(Numbers)/len(Numbers)))"
   ]
  },
  {
   "cell_type": "markdown",
   "metadata": {},
   "source": [
    "## Histograms\n",
    "The next two cells give programs that read a data file of integers and creates a histogram with the counts of each integer value from the file.  The first version creates and prints a Python dictionary with the histogram values.  The second uses matplotlib to plot the histogram."
   ]
  },
  {
   "cell_type": "code",
   "execution_count": null,
   "metadata": {},
   "outputs": [],
   "source": [
    "# -------------------------------------\n",
    "# Reads a file consisting of \n",
    "#   integers (1 integer on each line) and\n",
    "#   counts the number of occurances of \n",
    "#   each value (a histogram)\n",
    "# -------------------------------------\n",
    "# read the values\n",
    "vals = [int(i.rstrip()) for i in open('..\\data\\data.txt','r') if i.rstrip()]\n",
    "# dictionary to hold the counts - need to initialize to 0\n",
    "hist = {}\n",
    "for i in range(min(vals), max(vals)+1):\n",
    "    hist[i] = 0\n",
    "# loop through each observation\n",
    "for v in vals:\n",
    "    # key = integer, value = count (increment for each obs)\n",
    "    hist[v] = hist[v]+1\n",
    "# display\n",
    "for key in sorted(list(hist)):\n",
    "    print (\"{:3d} : {}\".format(key, hist[key]))\n"
   ]
  },
  {
   "cell_type": "code",
   "execution_count": null,
   "metadata": {},
   "outputs": [],
   "source": [
    "#\n",
    "# Use count() rather than incrementing and plot using matplotlib\n",
    "#\n",
    "%matplotlib inline\n",
    "import matplotlib.pyplot as plt\n",
    "\n",
    "# read the values\n",
    "vals = [int(i.rstrip()) for i in open('..\\data\\data.txt','r') if i.rstrip()]\n",
    "# dictionary to hold the counts\n",
    "hist = {}\n",
    "# loop through each unique value\n",
    "for i in range(min(vals),max(vals)+1):\n",
    "    # key = integer, value = count\n",
    "    hist[i] = vals.count(i)\n",
    "# Graphical version\n",
    "plt.figure(1, figsize=(8,4))\n",
    "plt.yticks(fontsize=10)\n",
    "plt.xticks(fontsize=10)\n",
    "plt.hist(vals, bins=15, normed=False)\n",
    "plt.title('Observed Counts',fontsize=10)\n",
    "plt.show()\n"
   ]
  },
  {
   "cell_type": "markdown",
   "metadata": {},
   "source": [
    "##  Quicksort defined as a function\n",
    "The folloiwng cell implments the standard quicksort algorithm to sort a list of numbers and return\n",
    "the sorted list.  Since the algorithm is implemented as a function, it can be called from subsequent cells once the function has been defined."
   ]
  },
  {
   "cell_type": "code",
   "execution_count": null,
   "metadata": {},
   "outputs": [],
   "source": [
    "#\n",
    "# quiksort - Implementaion of the quick sort algorithm.  Quicksort uses a \n",
    "#   partitioning approach with recursion.\n",
    "#\n",
    "#   By: Jeff Smith (2015-10-19)\n",
    "#   Based on: \n",
    "#      http://stackoverflow.com/questions/18262306/quick-sort-with-python\n",
    "\n",
    "# thelist should be a list of numbers\n",
    "def quicksort(thelist):\n",
    "    less = []\n",
    "    equal = []\n",
    "    greater = []\n",
    "\n",
    "    if len(thelist) > 1:\n",
    "        pivot = thelist[0]\n",
    "        for x in thelist:\n",
    "            if x < pivot:\n",
    "                less.append(x)\n",
    "            elif x == pivot:\n",
    "                equal.append(x)\n",
    "            else:\n",
    "                greater.append(x)\n",
    "        # Don't forget to return something!\n",
    "        # Just use the + operator to join lists\n",
    "        return quicksort(less) + equal + quicksort(greater)  \n",
    "    # Note that you want equal   ^^^^^   not pivot\n",
    "    else:  \n",
    "        # You need to handle the part at the end of the recursion - when you \n",
    "        # only have one element in your thelist, just return the thelist.\n",
    "        return thelist\n",
    "\n",
    "print(quicksort([12,4,5,7,6,3,1,15,25]))\n"
   ]
  },
  {
   "cell_type": "code",
   "execution_count": null,
   "metadata": {},
   "outputs": [],
   "source": [
    "quicksort([1, 8, 333, 2, 19, 5, 94, 12, 652, 19, 976, 423, 1854, 96])"
   ]
  },
  {
   "cell_type": "markdown",
   "metadata": {},
   "source": [
    "## Box-Muller Method for Generating Normal Random Variates\n",
    "The following cell has a program that genrates normally distributed random variates using the Box-Muller method and then uses matplotlib to show the uniform and resulting normal random variates."
   ]
  },
  {
   "cell_type": "code",
   "execution_count": null,
   "metadata": {},
   "outputs": [],
   "source": [
    "#\n",
    "# box_muller - implementatoin of the Box-Muller method\n",
    "# for generating normally distributed random variates.\n",
    "#\n",
    "# Adapted from https://glowingpython.blogspot.com/2013/01/box-muller-transformation.html\n",
    "#\n",
    "# 08/23/2017 - Jeff Smith\n",
    "#\n",
    "%matplotlib inline\n",
    "from numpy import random, sqrt, log, sin, cos, pi\n",
    "import matplotlib.pyplot as plt\n",
    "\n",
    "# transformation function\n",
    "def gaussian(u1,u2):\n",
    "    z1 = sqrt(-2*log(u1))*cos(2*pi*u2)\n",
    "    z2 = sqrt(-2*log(u1))*sin(2*pi*u2)\n",
    "    return z1,z2\n",
    "\n",
    "# uniformly distributed values between 0 and 1\n",
    "u1 = random.rand(5000)\n",
    "u2 = random.rand(5000)\n",
    "\n",
    "# run the transformation\n",
    "z1,z2 = gaussian(u1,u2)\n",
    "\n",
    "# plotting the values before and after the transformation\n",
    "plt.figure()\n",
    "plt.subplot(221) # the first row of graphs\n",
    "plt.hist(u1)     # contains the histograms of u1 and u2 \n",
    "plt.subplot(222)\n",
    "plt.hist(u2)\n",
    "plt.subplot(223) # the second contains\n",
    "plt.hist(z1)     # the histograms of z1 and z2\n",
    "plt.subplot(224)\n",
    "plt.hist(z2)\n",
    "plt.show()"
   ]
  },
  {
   "cell_type": "code",
   "execution_count": null,
   "metadata": {},
   "outputs": [],
   "source": [
    "#\n",
    "# Of course, Numpy has it's own function to generate normal random variates ...\n",
    "#\n",
    "%matplotlib inline\n",
    "import numpy as np\n",
    "import matplotlib.pyplot as plt\n",
    "\n",
    "mu = 127\n",
    "sigma = 36.5\n",
    "s = np.random.normal(mu, sigma, 1000)\n",
    "plt.figure()\n",
    "plt.hist(s)\n",
    "plt.show()"
   ]
  },
  {
   "cell_type": "markdown",
   "metadata": {},
   "source": [
    "## Connect to MySQL and list tables\n",
    "Note that you have to have the MySQL connector installed (this is not part of the standard Anaconda installation).  Also note that you'll need to use your own database information (user, password, database)."
   ]
  },
  {
   "cell_type": "code",
   "execution_count": null,
   "metadata": {},
   "outputs": [],
   "source": [
    "import mysql.connector\n",
    "\n",
    "# connect to the database\n",
    "cnx = mysql.connector.connect(\n",
    "    user=\"jeff\", \n",
    "    password=\"jeff\", \n",
    "    host=\"localhost\", \n",
    "    database=\"smitjefdb\"\n",
    "    )\n",
    "print (\"Successfully connected....\")\n",
    "print (\"Tables:\")\n",
    "cursor = cnx.cursor()\n",
    "query = (\"show tables\")\n",
    "cursor.execute(query)\n",
    "for (db) in cursor:\n",
    "    print (\"\\t{}\".format(db[0]))\n",
    "cursor.close()\n",
    "print (\"Database closed.\")"
   ]
  },
  {
   "cell_type": "code",
   "execution_count": null,
   "metadata": {},
   "outputs": [],
   "source": []
  }
 ],
 "metadata": {
  "kernelspec": {
   "display_name": "Python 3",
   "language": "python",
   "name": "python3"
  },
  "language_info": {
   "codemirror_mode": {
    "name": "ipython",
    "version": 3
   },
   "file_extension": ".py",
   "mimetype": "text/x-python",
   "name": "python",
   "nbconvert_exporter": "python",
   "pygments_lexer": "ipython3",
   "version": "3.6.4"
  }
 },
 "nbformat": 4,
 "nbformat_minor": 2
}
