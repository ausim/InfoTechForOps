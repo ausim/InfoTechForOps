{
 "cells": [
  {
   "cell_type": "markdown",
   "metadata": {},
   "source": [
    "# Sample Python Programs 1"
   ]
  },
  {
   "cell_type": "code",
   "execution_count": null,
   "metadata": {},
   "outputs": [],
   "source": [
    "# --------------\n",
    "# Simple program for computing the sample mean\n",
    "#    of a list of integers\n",
    "#\n",
    "# define the list of numbers\n",
    "Numbers = [123, 87, 96, 24, 104, 16, 55, 24, 19, 86, 776, 1945]\n",
    "# running total\n",
    "Total = 0\n",
    "# count of the number of items\n",
    "Count = 0\n",
    "# for each item in the list\n",
    "for Num in Numbers:\n",
    "    # increment the total\n",
    "    Total = Total + Num\n",
    "    # increment the count\n",
    "    Count=Count+1\n",
    "# compute the sample average\n",
    "if Count > 0 :\n",
    "    Average = float(Total)/Count\n",
    "else :\n",
    "    Average = \"Can't compute the average of a sample of size 0.\"\n",
    "# display output\n",
    "print (\"Average of the {:} numbers = {:.3f}\".format(Count, Average))\n"
   ]
  },
  {
   "cell_type": "code",
   "execution_count": null,
   "metadata": {},
   "outputs": [],
   "source": [
    "#\n",
    "# Python-esque version for sample mean\n",
    "# \n",
    "Numbers = [123, 87, 96, 24, 104, 16, 55, 24, 19, 86, 776, 1945]\n",
    "print (\"Average of the {:} numbers = {:.3f}\".format(len(Numbers), sum(Numbers)/len(Numbers)))"
   ]
  },
  {
   "cell_type": "code",
   "execution_count": null,
   "metadata": {},
   "outputs": [],
   "source": [
    "# -------------------------------------\n",
    "# Reads a file consisting of \n",
    "#   integers (1 integer on each line) and\n",
    "#   counts the number of occurances of \n",
    "#   each value (a histogram)\n",
    "# -------------------------------------\n",
    "# read the values\n",
    "vals = [int(i.rstrip()) for i in open('..\\data\\data.txt','r') if i.rstrip()]\n",
    "# dictionary to hold the counts - need to initialize to 0\n",
    "hist = {}\n",
    "for i in range(min(vals), max(vals)+1):\n",
    "    hist[i] = 0\n",
    "# loop through each observation\n",
    "for v in vals:\n",
    "    # key = integer, value = count (increment for each obs)\n",
    "    hist[v] = hist[v]+1\n",
    "# display\n",
    "for key in sorted(list(hist)):\n",
    "    print (\"{:3d} : {}\".format(key, hist[key]))\n"
   ]
  },
  {
   "cell_type": "code",
   "execution_count": 33,
   "metadata": {
    "collapsed": true
   },
   "outputs": [
    {
     "data": {
      "image/png": "[encoded data removed]",
      "text/plain": [
       "<matplotlib.figure.Figure at 0x1ea70d670f0>"
      ]
     },
     "metadata": {},
     "output_type": "display_data"
    }
   ],
   "source": [
    "#\n",
    "# Use count() rather than incrementing and plot using matplotlib\n",
    "#\n",
    "%matplotlib inline\n",
    "import matplotlib.pyplot as plt\n",
    "\n",
    "# read the values\n",
    "vals = [int(i.rstrip()) for i in open('..\\data\\data.txt','r') if i.rstrip()]\n",
    "# dictionary to hold the counts\n",
    "hist = {}\n",
    "# loop through each unique value\n",
    "for i in range(min(vals),max(vals)+1):\n",
    "    # key = integer, value = count\n",
    "    hist[i] = vals.count(i)\n",
    "# Graphical version\n",
    "plt.figure(1, figsize=(8,4))\n",
    "plt.yticks(fontsize=10)\n",
    "plt.xticks(fontsize=10)\n",
    "plt.hist(vals, bins=15, normed=False)\n",
    "plt.title('Observed Counts',fontsize=10)\n",
    "plt.show()\n"
   ]
  },
  {
   "cell_type": "code",
   "execution_count": 37,
   "metadata": {},
   "outputs": [
    {
     "name": "stdout",
     "output_type": "stream",
     "text": [
      "[1, 3, 4, 5, 6, 7, 12, 15, 25]\n"
     ]
    }
   ],
   "source": [
    "#\n",
    "# quiksort - Implementaion of the quick sort algorithm.  Quicksort uses a \n",
    "#   partitioning approach with recursion.\n",
    "#\n",
    "#   By: Jeff Smith (2015-10-19)\n",
    "#   Based on: \n",
    "#      http://stackoverflow.com/questions/18262306/quick-sort-with-python\n",
    "\n",
    "# thelist should be a list of numbers\n",
    "def quicksort(thelist):\n",
    "    less = []\n",
    "    equal = []\n",
    "    greater = []\n",
    "\n",
    "    if len(thelist) > 1:\n",
    "        pivot = thelist[0]\n",
    "        for x in thelist:\n",
    "            if x < pivot:\n",
    "                less.append(x)\n",
    "            elif x == pivot:\n",
    "                equal.append(x)\n",
    "            else:\n",
    "                greater.append(x)\n",
    "        # Don't forget to return something!\n",
    "        # Just use the + operator to join lists\n",
    "        return quicksort(less) + equal + quicksort(greater)  \n",
    "    # Note that you want equal   ^^^^^   not pivot\n",
    "    else:  \n",
    "        # You need to handle the part at the end of the recursion - when you \n",
    "        # only have one element in your thelist, just return the thelist.\n",
    "        return thelist\n",
    "\n",
    "print(quicksort([12,4,5,7,6,3,1,15,25]))\n"
   ]
  },
  {
   "cell_type": "code",
   "execution_count": 38,
   "metadata": {},
   "outputs": [
    {
     "data": {
      "text/plain": [
       "[1, 2, 5, 8, 12, 19, 19, 94, 96, 333, 423, 652, 976, 1854]"
      ]
     },
     "execution_count": 38,
     "metadata": {},
     "output_type": "execute_result"
    }
   ],
   "source": [
    "quicksort([1, 8, 333, 2, 19, 5, 94, 12, 652, 19, 976, 423, 1854, 96])"
   ]
  },
  {
   "cell_type": "code",
   "execution_count": 42,
   "metadata": {},
   "outputs": [
    {
     "data": {
      "image/png": "[encoded data removed]",
      "text/plain": [
       "<matplotlib.figure.Figure at 0x1ea7252e470>"
      ]
     },
     "metadata": {},
     "output_type": "display_data"
    }
   ],
   "source": [
    "#\n",
    "# box_muller - implementatoin of the Box-Muller method\n",
    "# for generating normally distributed random variates.\n",
    "#\n",
    "# Adapted from https://glowingpython.blogspot.com/2013/01/box-muller-transformation.html\n",
    "#\n",
    "# 08/23/2017 - Jeff Smith\n",
    "#\n",
    "%matplotlib inline\n",
    "from numpy import random, sqrt, log, sin, cos, pi\n",
    "import matplotlib.pyplot as plt;\n",
    "\n",
    "# transformation function\n",
    "def gaussian(u1,u2):\n",
    "    z1 = sqrt(-2*log(u1))*cos(2*pi*u2)\n",
    "    z2 = sqrt(-2*log(u1))*sin(2*pi*u2)\n",
    "    return z1,z2\n",
    "\n",
    "# uniformly distributed values between 0 and 1\n",
    "u1 = random.rand(5000)\n",
    "u2 = random.rand(5000)\n",
    "\n",
    "# run the transformation\n",
    "z1,z2 = gaussian(u1,u2)\n",
    "\n",
    "# plotting the values before and after the transformation\n",
    "plt.figure()\n",
    "plt.subplot(221) # the first row of graphs\n",
    "plt.hist(u1)     # contains the histograms of u1 and u2 \n",
    "plt.subplot(222)\n",
    "plt.hist(u2)\n",
    "plt.subplot(223) # the second contains\n",
    "plt.hist(z1)     # the histograms of z1 and z2\n",
    "plt.subplot(224)\n",
    "plt.hist(z2)\n",
    "plt.show()"
   ]
  },
  {
   "cell_type": "code",
   "execution_count": null,
   "metadata": {},
   "outputs": [],
   "source": []
  }
 ],
 "metadata": {
  "kernelspec": {
   "display_name": "Python 3",
   "language": "python",
   "name": "python3"
  },
  "language_info": {
   "codemirror_mode": {
    "name": "ipython",
    "version": 3
   },
   "file_extension": ".py",
   "mimetype": "text/x-python",
   "name": "python",
   "nbconvert_exporter": "python",
   "pygments_lexer": "ipython3",
   "version": "3.6.4"
  }
 },
 "nbformat": 4,
 "nbformat_minor": 2
}
