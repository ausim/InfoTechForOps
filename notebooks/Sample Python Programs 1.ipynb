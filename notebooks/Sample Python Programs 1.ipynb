{
 "cells": [
  {
   "cell_type": "markdown",
   "metadata": {},
   "source": [
    "# Sample Python Programs 1"
   ]
  },
  {
   "cell_type": "code",
   "execution_count": null,
   "metadata": {},
   "outputs": [],
   "source": [
    "# --------------\n",
    "# Simple program for computing the sample mean\n",
    "#    of a list of integers\n",
    "#\n",
    "# define the list of numbers\n",
    "Numbers = [123, 87, 96, 24, 104, 16, 55, 24, 19, 86, 776, 1945]\n",
    "# running total\n",
    "Total = 0\n",
    "# count of the number of items\n",
    "Count = 0\n",
    "# for each item in the list\n",
    "for Num in Numbers:\n",
    "    # increment the total\n",
    "    Total = Total + Num\n",
    "    # increment the count\n",
    "    Count=Count+1\n",
    "# compute the sample average\n",
    "if Count > 0 :\n",
    "    Average = float(Total)/Count\n",
    "else :\n",
    "    Average = \"Can't compute the average of a sample of size 0.\"\n",
    "# display output\n",
    "print (\"Average of the {:} numbers = {:.3f}\".format(Count, Average))\n"
   ]
  },
  {
   "cell_type": "code",
   "execution_count": null,
   "metadata": {},
   "outputs": [],
   "source": [
    "#\n",
    "# Python-esque version for sample mean\n",
    "# \n",
    "Numbers = [123, 87, 96, 24, 104, 16, 55, 24, 19, 86, 776, 1945]\n",
    "print (\"Average of the {:} numbers = {:.3f}\".format(len(Numbers), sum(Numbers)/len(Numbers)))"
   ]
  },
  {
   "cell_type": "code",
   "execution_count": null,
   "metadata": {},
   "outputs": [],
   "source": [
    "# -------------------------------------\n",
    "# Reads a file consisting of \n",
    "#   integers (1 integer on each line) and\n",
    "#   counts the number of occurances of \n",
    "#   each value (a histogram)\n",
    "# -------------------------------------\n",
    "# read the values\n",
    "vals = [int(i.rstrip()) for i in open('..\\data\\data.txt','r') if i.rstrip()]\n",
    "# dictionary to hold the counts - need to initialize to 0\n",
    "hist = {}\n",
    "for i in range(min(vals), max(vals)+1):\n",
    "    hist[i] = 0\n",
    "# loop through each observation\n",
    "for v in vals:\n",
    "    # key = integer, value = count (increment for each obs)\n",
    "    hist[v] = hist[v]+1\n",
    "# display\n",
    "for key in sorted(list(hist)):\n",
    "    print (\"{:3d} : {}\".format(key, hist[key]))\n"
   ]
  },
  {
   "cell_type": "code",
   "execution_count": 33,
   "metadata": {
    "collapsed": true
   },
   "outputs": [
    {
     "data": {
      "image/png": "[encoded data removed]",
      "text/plain": [
       "<matplotlib.figure.Figure at 0x1ea70d670f0>"
      ]
     },
     "metadata": {},
     "output_type": "display_data"
    }
   ],
   "source": [
    "#\n",
    "# Use count() rather than incrementing and plot using matplotlib\n",
    "#\n",
    "%matplotlib inline\n",
    "import matplotlib.pyplot as plt\n",
    "\n",
    "# read the values\n",
    "vals = [int(i.rstrip()) for i in open('..\\data\\data.txt','r') if i.rstrip()]\n",
    "# dictionary to hold the counts\n",
    "hist = {}\n",
    "# loop through each unique value\n",
    "for i in range(min(vals),max(vals)+1):\n",
    "    # key = integer, value = count\n",
    "    hist[i] = vals.count(i)\n",
    "# Graphical version\n",
    "plt.figure(1, figsize=(8,4))\n",
    "plt.yticks(fontsize=10)\n",
    "plt.xticks(fontsize=10)\n",
    "plt.hist(vals, bins=15, normed=False)\n",
    "plt.title('Observed Counts',fontsize=10)\n",
    "plt.show()\n"
   ]
  },
  {
   "cell_type": "code",
   "execution_count": null,
   "metadata": {},
   "outputs": [],
   "source": []
  }
 ],
 "metadata": {
  "kernelspec": {
   "display_name": "Python 3",
   "language": "python",
   "name": "python3"
  },
  "language_info": {
   "codemirror_mode": {
    "name": "ipython",
    "version": 3
   },
   "file_extension": ".py",
   "mimetype": "text/x-python",
   "name": "python",
   "nbconvert_exporter": "python",
   "pygments_lexer": "ipython3",
   "version": "3.6.4"
  }
 },
 "nbformat": 4,
 "nbformat_minor": 2
}
