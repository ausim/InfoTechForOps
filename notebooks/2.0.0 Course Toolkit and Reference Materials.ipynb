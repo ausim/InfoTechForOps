{
 "cells": [
  {
   "cell_type": "markdown",
   "metadata": {},
   "source": [
    "# Course Toolkit and Reference Tools\n",
    "Our toolkit will consist of several computer tools -- most are freely available.  We will also use a variety of books and web references.  The offical OS for the course is Windows 10 (this the OS installed in our labs and on my computers).  However, virtually all of the software that we will use is also available for OSX (Mac) and Linux.  I will try to assist where I can, but I do not have much experience with installing the software in these environments.\n"
   ]
  },
  {
   "cell_type": "markdown",
   "metadata": {},
   "source": [
    "## Books and Web References\n",
    "\n",
    "### Books\n",
    "<ul>\n",
    "<li>VanderPlas, J. <i>Python Data Science Handbook: Essential Tools for Working with Data</i>, O'Reilly Media, 2016.  Available on \n",
    "Amazon and at https://jakevdp.github.io/PythonDataScienceHandbook/.\n",
    "<li>Grolemund, G. and Wickham, H. <i>R for Data Science</i>, O'Reilly Media, 2017.  Available on Amazon and at http://r4ds.had.co.nz/.\n",
    "</ul>\n",
    "\n",
    "### Web References\n",
    "<ul>\n",
    "    <li />Anaconda - https://www.anaconda.com/\n",
    "    <li />Conda User Guide - https://conda.io/docs/user-guide/index.html\n",
    "    <li />SciPy - https://www.scipy.org/\n",
    "    <li />NumPy - http://www.numpy.org/\n",
    "    <li />Pandas - http://pandas.pydata.org/\n",
    "    <li />The R Project for Statistical Computing - https://www.r-project.org/\n",
    "    <li />RStudio - https://www.rstudio.com/\n",
    "    <li /> CRAN - https://cran.r-project.org/\n",
    "</ul>\n",
    "      \n"
   ]
  },
  {
   "cell_type": "markdown",
   "metadata": {},
   "source": [
    "## Python\n",
    "We will use Python 3.6.x for this course.  When downloading and installing related pacakges, please make sure that you have the 3.6.x versions and not the 2.7.y versions.  We recommend that youu use the Anaconda Python package (https://www.anaconda.com/download/) -- this is the package that will be installed in the labs.  The standard installation includes most of Python-related packages that we will use in the class and other packages can be easily installed and managed using the Conda package manager (https://conda.io/docs/).\n",
    "\n",
    "The following sections briefly describe the major Python modules that we will use in class.\n",
    "\n",
    "### SciPy\n",
    "\n",
    "(installed as part of the standard Anaconda installation)\n",
    "\n",
    "\n",
    "### NumPy\n",
    "\n",
    "(installed as part of the standard Anaconda installation)\n",
    "\n",
    "\n",
    "\n",
    "### Pandas\n",
    "\n",
    "(installed as part of the standard Anaconda installation)\n",
    "\n",
    "\n",
    "\n",
    "\n",
    "### Matplotlib\n",
    "\n",
    "(installed as part of the standard Anaconda installation)\n",
    "\n",
    "### Python MySQL Connector\n",
    "\n",
    "Available at: https://dev.mysql.com/downloads/connector/python/\n",
    "\n",
    "\n"
   ]
  },
  {
   "cell_type": "markdown",
   "metadata": {},
   "source": [
    "## R\n",
    "\n",
    "We will use a \"current\" version of R for this course.  I currently have version 3.3.2 installed on my computer, but I recommend that you install the latest stable version (a list of R mirror sites is available at https://cran.r-project.org/mirrors.html).\n"
   ]
  },
  {
   "cell_type": "markdown",
   "metadata": {},
   "source": [
    "\n",
    "## MySQL/MariaDB"
   ]
  },
  {
   "cell_type": "code",
   "execution_count": null,
   "metadata": {},
   "outputs": [],
   "source": []
  }
 ],
 "metadata": {
  "kernelspec": {
   "display_name": "Python 3",
   "language": "python",
   "name": "python3"
  },
  "language_info": {
   "codemirror_mode": {
    "name": "ipython",
    "version": 3
   },
   "file_extension": ".py",
   "mimetype": "text/x-python",
   "name": "python",
   "nbconvert_exporter": "python",
   "pygments_lexer": "ipython3",
   "version": "3.6.4"
  }
 },
 "nbformat": 4,
 "nbformat_minor": 2
}
