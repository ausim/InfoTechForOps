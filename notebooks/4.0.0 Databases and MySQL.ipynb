{
 "cells": [
  {
   "cell_type": "markdown",
   "metadata": {},
   "source": [
    "# Databases and MySQL"
   ]
  },
  {
   "cell_type": "code",
   "execution_count": null,
   "metadata": {},
   "outputs": [],
   "source": [
    "# Setting Up\n",
    "import mysql.connector\n",
    "# if import fails, 'conda install mysql-connector-python' to install (from a conda prompt)\n",
    "import pandas as pd"
   ]
  },
  {
   "cell_type": "markdown",
   "metadata": {},
   "source": [
    "## Flight-Airplane-PassengerCount"
   ]
  },
  {
   "cell_type": "code",
   "execution_count": null,
   "metadata": {},
   "outputs": [],
   "source": [
    "# read from csv\n",
    "flights = pd.read_csv(\"../data/flights.csv\", parse_dates=['DepDate', 'ArrDate'])\n",
    "flights.head()"
   ]
  },
  {
   "cell_type": "markdown",
   "metadata": {},
   "source": [
    "## People-Flight-Airplane"
   ]
  },
  {
   "cell_type": "code",
   "execution_count": null,
   "metadata": {},
   "outputs": [],
   "source": [
    "# read from csv\n",
    "passengers = pd.read_csv(\"../data/passengers.csv\", parse_dates=['DepDate', 'ArrDate'])\n",
    "passengers.head()"
   ]
  },
  {
   "cell_type": "markdown",
   "metadata": {},
   "source": [
    "## Connecting to and querying the database"
   ]
  },
  {
   "cell_type": "code",
   "execution_count": null,
   "metadata": {},
   "outputs": [],
   "source": [
    "# connect to the database\n",
    "cnx = mysql.connector.connect(\n",
    "    user=\"insy6500\", \n",
    "    password=\"insy6500\", \n",
    "    host=\"localhost\", \n",
    "    database=\"insy6500\"\n",
    "    )\n",
    "print (\"Successfully connected....\")"
   ]
  },
  {
   "cell_type": "code",
   "execution_count": null,
   "metadata": {},
   "outputs": [],
   "source": [
    "# List the tables using a cursor object\n",
    "print (\"Tables:\")\n",
    "cursor = cnx.cursor()\n",
    "# this is the SQL query\n",
    "query = (\"show tables\")\n",
    "cursor.execute(query)\n",
    "for (db) in cursor:\n",
    "    print (\"\\t{}\".format(db[0]))\n",
    "cursor.close()\n",
    "print (\"Database closed.\")"
   ]
  },
  {
   "cell_type": "markdown",
   "metadata": {},
   "source": [
    "## Define Some Helper Functions"
   ]
  },
  {
   "cell_type": "code",
   "execution_count": null,
   "metadata": {},
   "outputs": [],
   "source": [
    "#\n",
    "#  Single value query - returns the result of a single-value query\n",
    "#\n",
    "def single_value(query):\n",
    "    cursor = cnx.cursor()\n",
    "    cursor.execute(query)\n",
    "    db = cursor.fetchall()\n",
    "    cursor.close()\n",
    "    return(db[0][0])\n",
    "\n",
    "#\n",
    "#  Recordset query - returns the result of a recordset query\n",
    "#\n",
    "def recordset(query):\n",
    "    cursor = cnx.cursor()\n",
    "    cursor.execute(query)\n",
    "    db = cursor.fetchall()\n",
    "    cursor.close()\n",
    "    return(db)"
   ]
  },
  {
   "cell_type": "code",
   "execution_count": null,
   "metadata": {},
   "outputs": [],
   "source": [
    "qry = \"select count(*) from passenger\"\n",
    "print(\"{:,d} passenger records.\".format(single_value(qry)))"
   ]
  },
  {
   "cell_type": "code",
   "execution_count": null,
   "metadata": {},
   "outputs": [],
   "source": [
    "qry = \"select * from airplane\"\n",
    "print(\"Airplane records: {}\".format(recordset(qry)))"
   ]
  },
  {
   "cell_type": "code",
   "execution_count": null,
   "metadata": {},
   "outputs": [],
   "source": [
    "rs = recordset(qry)"
   ]
  },
  {
   "cell_type": "code",
   "execution_count": null,
   "metadata": {},
   "outputs": [],
   "source": [
    "for r in rs:\n",
    "    print(r[0])"
   ]
  },
  {
   "cell_type": "markdown",
   "metadata": {},
   "source": [
    "## Using Pandas"
   ]
  },
  {
   "cell_type": "code",
   "execution_count": null,
   "metadata": {},
   "outputs": [],
   "source": [
    "# Sample query to a Pandas dataframe\n",
    "qry = \"select * from airplane\"\n",
    "print (\"Query: {:}\".format(qry))\n",
    "pdPlanes = pd.read_sql(qry, cnx)\n",
    "pdPlanes"
   ]
  },
  {
   "cell_type": "code",
   "execution_count": null,
   "metadata": {},
   "outputs": [],
   "source": [
    "# Query to an anonymous dataframe\n",
    "pd.read_sql(\"show tables\", cnx)"
   ]
  },
  {
   "cell_type": "code",
   "execution_count": null,
   "metadata": {},
   "outputs": [],
   "source": [
    "qry = \"select * from passenger limit 5\"\n",
    "pd.read_sql(qry, cnx)"
   ]
  },
  {
   "cell_type": "code",
   "execution_count": null,
   "metadata": {},
   "outputs": [],
   "source": [
    "# Define a query helper function\n",
    "# Assumes that the connection cnx has already been established\n",
    "def pquery(qry):\n",
    "    p = pd.read_sql(qry,cnx)\n",
    "    print(\"Found {:,d} records.\".format(len(p)))\n",
    "    return p"
   ]
  },
  {
   "cell_type": "markdown",
   "metadata": {},
   "source": [
    "### Standard SELECT statements"
   ]
  },
  {
   "cell_type": "code",
   "execution_count": null,
   "metadata": {},
   "outputs": [],
   "source": [
    "qry = \"select * from booking\"\n",
    "p = pquery(qry)\n",
    "p.head()"
   ]
  },
  {
   "cell_type": "code",
   "execution_count": null,
   "metadata": {},
   "outputs": [],
   "source": [
    "qry = \"select * from booking limit 100\"\n",
    "p = pquery(qry)\n",
    "p.head()"
   ]
  },
  {
   "cell_type": "code",
   "execution_count": null,
   "metadata": {},
   "outputs": [],
   "source": [
    "p = pquery(\"select distinct FlightNumber from flight\")\n",
    "p.head(10)"
   ]
  },
  {
   "cell_type": "code",
   "execution_count": null,
   "metadata": {},
   "outputs": [],
   "source": [
    "pquery(\"select * from flight order by DepartureTime limit 10\")"
   ]
  },
  {
   "cell_type": "code",
   "execution_count": null,
   "metadata": {},
   "outputs": [],
   "source": [
    "pquery(\"select * from flight where day(DepartureDate) = 5 order by DepartureTime\")"
   ]
  },
  {
   "cell_type": "code",
   "execution_count": null,
   "metadata": {},
   "outputs": [],
   "source": [
    "pquery(\"select * from flight where day(DepartureDate) = 5 and Destination = 'Atlanta' order by DepartureTime\")"
   ]
  },
  {
   "cell_type": "markdown",
   "metadata": {},
   "source": [
    "### Aggregation and Grouping"
   ]
  },
  {
   "cell_type": "code",
   "execution_count": null,
   "metadata": {},
   "outputs": [],
   "source": [
    "pquery(\"describe skus\")"
   ]
  },
  {
   "cell_type": "code",
   "execution_count": null,
   "metadata": {},
   "outputs": [],
   "source": [
    "pquery(\"select sum(qty_on_hand) from skus\")"
   ]
  },
  {
   "cell_type": "code",
   "execution_count": null,
   "metadata": {},
   "outputs": [],
   "source": [
    "pquery(\"select sum(qty_on_hand * weight) from skus\")"
   ]
  },
  {
   "cell_type": "markdown",
   "metadata": {},
   "source": [
    "## Querying Multiple Tables"
   ]
  },
  {
   "cell_type": "code",
   "execution_count": null,
   "metadata": {},
   "outputs": [],
   "source": [
    "# Subqueries\n",
    "pquery(\"select * from artist where artist_id not in (select distinct artist_id from track)\")\n",
    "# add an artist with no albums and rerun"
   ]
  },
  {
   "cell_type": "code",
   "execution_count": null,
   "metadata": {},
   "outputs": [],
   "source": [
    "# Simply joins\n",
    "pquery(\"select artist_name, album_name from artist inner join album using (artist_id) order by artist_name\")"
   ]
  },
  {
   "cell_type": "markdown",
   "metadata": {},
   "source": [
    "### Examples - Was a Homework Assignment last time"
   ]
  },
  {
   "cell_type": "code",
   "execution_count": null,
   "metadata": {},
   "outputs": [],
   "source": [
    "# Simple inner join\n",
    "# 1.  Artists and their albumns --- artist_name, album_name\n"
   ]
  },
  {
   "cell_type": "code",
   "execution_count": null,
   "metadata": {},
   "outputs": [],
   "source": [
    "# 2.  Artists and tracks\n"
   ]
  },
  {
   "cell_type": "code",
   "execution_count": null,
   "metadata": {},
   "outputs": [],
   "source": [
    "# 3. Artists and the number of tracks they have\n"
   ]
  },
  {
   "cell_type": "code",
   "execution_count": null,
   "metadata": {},
   "outputs": [],
   "source": [
    "# 4. Track anm,e, date/time played for all tracks that have been played\n"
   ]
  },
  {
   "cell_type": "code",
   "execution_count": null,
   "metadata": {},
   "outputs": [],
   "source": [
    "# 5. Including songs that haven't been played\n"
   ]
  },
  {
   "cell_type": "code",
   "execution_count": null,
   "metadata": {},
   "outputs": [],
   "source": [
    "# 6. Track name, times played, total time played for all songs that have been played.\n"
   ]
  },
  {
   "cell_type": "code",
   "execution_count": null,
   "metadata": {},
   "outputs": [],
   "source": [
    "# 7. All airplanes and the flights that each has flown\n"
   ]
  },
  {
   "cell_type": "code",
   "execution_count": null,
   "metadata": {},
   "outputs": [],
   "source": [
    "# 8. All airplanes and the number of flights that each has flown."
   ]
  },
  {
   "cell_type": "code",
   "execution_count": null,
   "metadata": {},
   "outputs": [],
   "source": [
    "# 9.  All flights with the plan capacities and number of passengers booked on each\n"
   ]
  },
  {
   "cell_type": "code",
   "execution_count": null,
   "metadata": {},
   "outputs": [],
   "source": [
    "# 10. Flights originating in Atlanta that have remaining capacity\n"
   ]
  },
  {
   "cell_type": "code",
   "execution_count": null,
   "metadata": {},
   "outputs": [],
   "source": []
  }
 ],
 "metadata": {
  "kernelspec": {
   "display_name": "Python 3",
   "language": "python",
   "name": "python3"
  },
  "language_info": {
   "codemirror_mode": {
    "name": "ipython",
    "version": 3
   },
   "file_extension": ".py",
   "mimetype": "text/x-python",
   "name": "python",
   "nbconvert_exporter": "python",
   "pygments_lexer": "ipython3",
   "version": "3.6.9"
  }
 },
 "nbformat": 4,
 "nbformat_minor": 2
}
