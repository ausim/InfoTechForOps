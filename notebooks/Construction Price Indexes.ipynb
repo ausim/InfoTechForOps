{
 "cells": [
  {
   "cell_type": "markdown",
   "metadata": {},
   "source": [
    "# Construction Price Indexes Dataset\n",
    "Source: https://www.census.gov/construction/cpi/\n",
    "\n",
    "## Reading the data sets\n",
    "\n",
    "### Start with the \"vertical\" version of the dataset\n"
   ]
  },
  {
   "cell_type": "code",
   "execution_count": null,
   "metadata": {},
   "outputs": [],
   "source": [
    "#\n",
    "# Initial version - \"standard programming\"\n",
    "#\n",
    "# open the file\n",
    "fname = \"..\\data\\construction1.csv\"\n",
    "f = open(fname, \"r\")\n",
    "# ignore the first 5 lines\n",
    "for i in range(6):\n",
    "    line = f.readline()\n",
    "# loop until we run out of lines\n",
    "while (line):\n",
    "    # strip the newline and tokenize (split on commas, in this case)\n",
    "    tokens = line.rstrip().split(',')\n",
    "    # print the month and two indices\n",
    "    print (\"{:}\\t{:}\\t{:}\".format(tokens[0], tokens[2], tokens[3]))\n",
    "    # read the next line\n",
    "    line = f.readline()\n",
    "# close the file\n",
    "f.close()\n"
   ]
  },
  {
   "cell_type": "code",
   "execution_count": null,
   "metadata": {},
   "outputs": [],
   "source": [
    "#\n",
    "# Python-esque version 1\n",
    "#\n",
    "# Grab all the lines from the file starting with line 6, strip\n",
    "# the newline and tokenize\n",
    "with open(\"..\\data\\construction1.csv\") as f:\n",
    "    vdataset = [line.rstrip().split(',') for line in f.readlines()[5:]]\n",
    "# print the dataset\n",
    "for row in vdataset:\n",
    "    print (\"{:}\\t{:}\\t{:}\".format(row[0], row[2], row[3]))\n"
   ]
  },
  {
   "cell_type": "code",
   "execution_count": null,
   "metadata": {},
   "outputs": [],
   "source": [
    "#\n",
    "# Python-esque version 2\n",
    "#\n",
    "# use the csv module\n",
    "import csv\n",
    "with open(\"..\\data\\construction1.csv\") as f:\n",
    "    reader = csv.reader(f)\n",
    "    for row in reader:\n",
    "        print (\"{:}\\t{:}\\t{:}\".format(row[0], row[2], row[3]))\n"
   ]
  },
  {
   "cell_type": "markdown",
   "metadata": {},
   "source": [
    "### The row version of the Laspeyres index"
   ]
  },
  {
   "cell_type": "code",
   "execution_count": null,
   "metadata": {},
   "outputs": [],
   "source": [
    "with open(\"..\\data\\construction2.csv\") as f:\n",
    "    ldataset = [line.rstrip().split(',') for line in f.readlines()[7:]]\n",
    "# print part of the the dataset\n",
    "for row in ldataset:\n",
    "    print (\"{:}\\t{:}\\t{:}\".format(row[0], row[2], row[4]))\n"
   ]
  },
  {
   "cell_type": "code",
   "execution_count": null,
   "metadata": {},
   "outputs": [],
   "source": []
  }
 ],
 "metadata": {
  "kernelspec": {
   "display_name": "Python 3",
   "language": "python",
   "name": "python3"
  },
  "language_info": {
   "codemirror_mode": {
    "name": "ipython",
    "version": 3
   },
   "file_extension": ".py",
   "mimetype": "text/x-python",
   "name": "python",
   "nbconvert_exporter": "python",
   "pygments_lexer": "ipython3",
   "version": "3.6.4"
  }
 },
 "nbformat": 4,
 "nbformat_minor": 2
}
